{
  "nbformat": 4,
  "nbformat_minor": 0,
  "metadata": {
    "colab": {
      "name": "The Battle of Neighborhoods (Week 1) part 2.ipynb",
      "provenance": []
    },
    "kernelspec": {
      "name": "python3",
      "display_name": "Python 3"
    },
    "language_info": {
      "name": "python"
    }
  },
  "cells": [
    {
      "cell_type": "markdown",
      "metadata": {
        "id": "Azv7X5whSPbp"
      },
      "source": [
        "# **The Battle of Neighborhoods (Week 1)**"
      ]
    },
    {
      "cell_type": "markdown",
      "metadata": {
        "id": "h_lVchBjSYAC"
      },
      "source": [
        "Data science IBM"
      ]
    },
    {
      "cell_type": "markdown",
      "metadata": {
        "id": "9l_37pCKSh6k"
      },
      "source": [
        "Capstone Project"
      ]
    },
    {
      "cell_type": "markdown",
      "metadata": {
        "id": "xI-ZITg7S1HX"
      },
      "source": [
        "# Introduction/Business Problem "
      ]
    },
    {
      "cell_type": "markdown",
      "metadata": {
        "id": "nfEMiF0pV3hZ"
      },
      "source": [
        "My idea for the Capstone Project is  do an introductory analysis to the Crime of US States,   I have two main questions that I need to solve:"
      ]
    },
    {
      "cell_type": "markdown",
      "metadata": {
        "id": "ynA_7DupWjBn"
      },
      "source": [
        "**1. How can the crime rate of a country be measured?**\n",
        " \n",
        " "
      ]
    },
    {
      "cell_type": "markdown",
      "metadata": {
        "id": "xHfPvS0RYcwe"
      },
      "source": [
        "**2. which is the most violent city, is it because of the shere number of citizens in these towns? How can we investigate it?** "
      ]
    },
    {
      "cell_type": "markdown",
      "metadata": {
        "id": "m598gE1SYnjA"
      },
      "source": [
        ""
      ]
    },
    {
      "cell_type": "markdown",
      "metadata": {
        "id": "GH3Gw7OBalev"
      },
      "source": [
        "**To solve the problem, we will need the following data:**"
      ]
    },
    {
      "cell_type": "markdown",
      "metadata": {
        "id": "c2_4AESdasVk"
      },
      "source": [
        "1. report.csv: Crime in Context, 1975-2015, Are violent crime rates rising or falling in American cities?"
      ]
    },
    {
      "cell_type": "markdown",
      "metadata": {
        "id": "OMXoCAlnbnSk"
      },
      "source": [
        "2. Chicago Crime DataSet"
      ]
    },
    {
      "cell_type": "markdown",
      "metadata": {
        "id": "MrxEiBezd8xg"
      },
      "source": [
        "3. Query the FourSqaure website for the top sites in Chicago"
      ]
    },
    {
      "cell_type": "markdown",
      "metadata": {
        "id": "ncpj8PnOeBYV"
      },
      "source": [
        "**Data Description**\n"
      ]
    },
    {
      "cell_type": "markdown",
      "metadata": {
        "id": "kpibKmCLeNqs"
      },
      "source": [
        "1. The Marshall Project collected and analyzed more than 40 years of data on the four major crimes the FBI classifies as violent — homicide, rape, robbery and assault — in 68 police jurisdictions with populations of 250,000 or greater. "
      ]
    },
    {
      "cell_type": "markdown",
      "metadata": {
        "id": "CgoX1iZfeptr"
      },
      "source": [
        "2. This dataset reflects reported incidents of crime (with the exception of murders where data exists for each victim) that occurred in the City of Chicago in the last year, minus the most recent seven days. Data is extracted from the Chicago Police Department's CLEAR (Citizen Law Enforcement Analysis and Reporting) system. In order to protect the privacy of crime victims, addresses are shown at the block level only and specific locations are not identified."
      ]
    },
    {
      "cell_type": "markdown",
      "metadata": {
        "id": "VV3U71tDfmj5"
      },
      "source": [
        "3. This databis available directly from the FourSquare Website. "
      ]
    }
  ]
}