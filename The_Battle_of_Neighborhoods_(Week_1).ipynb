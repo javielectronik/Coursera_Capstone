{
  "nbformat": 4,
  "nbformat_minor": 0,
  "metadata": {
    "colab": {
      "name": "The Battle of Neighborhoods (Week 1).ipynb",
      "provenance": []
    },
    "kernelspec": {
      "name": "python3",
      "display_name": "Python 3"
    },
    "language_info": {
      "name": "python"
    }
  },
  "cells": [
    {
      "cell_type": "markdown",
      "metadata": {
        "id": "Azv7X5whSPbp"
      },
      "source": [
        "# **The Battle of Neighborhoods (Week 1)**"
      ]
    },
    {
      "cell_type": "markdown",
      "metadata": {
        "id": "h_lVchBjSYAC"
      },
      "source": [
        "Data science IBM"
      ]
    },
    {
      "cell_type": "markdown",
      "metadata": {
        "id": "9l_37pCKSh6k"
      },
      "source": [
        "Capstone Project"
      ]
    },
    {
      "cell_type": "markdown",
      "metadata": {
        "id": "xI-ZITg7S1HX"
      },
      "source": [
        "# Introduction/Business Problem "
      ]
    },
    {
      "cell_type": "markdown",
      "metadata": {
        "id": "nfEMiF0pV3hZ"
      },
      "source": [
        "My idea for the Capstone Project is  do an introductory analysis to the Crime of US States,   I have two main questions that I need to solve:"
      ]
    },
    {
      "cell_type": "markdown",
      "metadata": {
        "id": "ynA_7DupWjBn"
      },
      "source": [
        "**1. How can the crime rate of a country be measured?**\n",
        " \n",
        " "
      ]
    },
    {
      "cell_type": "markdown",
      "metadata": {
        "id": "xHfPvS0RYcwe"
      },
      "source": [
        "**2. which is the most violent city, is it because of the shere number of citizens in these towns? How can we investigate it?** "
      ]
    },
    {
      "cell_type": "markdown",
      "metadata": {
        "id": "m598gE1SYnjA"
      },
      "source": [
        "# **Data**"
      ]
    },
    {
      "cell_type": "markdown",
      "metadata": {
        "id": "GH3Gw7OBalev"
      },
      "source": [
        "**To solve the problem, we will need the following data:**"
      ]
    },
    {
      "cell_type": "markdown",
      "metadata": {
        "id": "c2_4AESdasVk"
      },
      "source": [
        "1. report.csv: Crime in Context, 1975-2015, Are violent crime rates rising or falling in American cities?"
      ]
    },
    {
      "cell_type": "markdown",
      "metadata": {
        "id": "OMXoCAlnbnSk"
      },
      "source": [
        "2. Chicago Crime DataSet"
      ]
    },
    {
      "cell_type": "code",
      "metadata": {
        "id": "VRLfxCIGZafv"
      },
      "source": [
        "# Import Pandas and Numpy to provide DataFrame support\n",
        "import pandas as pd\n",
        "pd.set_option('display.max_columns', None)\n",
        "pd.set_option('display.max_rows', None)\n",
        "\n",
        "import numpy as np"
      ],
      "execution_count": 1,
      "outputs": []
    }
  ]
}