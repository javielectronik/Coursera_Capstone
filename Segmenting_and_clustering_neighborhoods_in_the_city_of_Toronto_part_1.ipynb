{
  "nbformat": 4,
  "nbformat_minor": 0,
  "metadata": {
    "colab": {
      "name": "Segmenting and clustering neighborhoods in the city of Toronto.ipynb",
      "provenance": []
    },
    "kernelspec": {
      "name": "python3",
      "display_name": "Python 3"
    },
    "language_info": {
      "name": "python"
    }
  },
  "cells": [
    {
      "cell_type": "markdown",
      "metadata": {
        "id": "2JX8ph26Doo3"
      },
      "source": [
        "**Segmenting and clustering neighborhoods in the city of Toronto**"
      ]
    },
    {
      "cell_type": "markdown",
      "metadata": {
        "id": "Cc1ngeYJEZUb"
      },
      "source": [
        "Week3 Peer Graded Assignment"
      ]
    },
    {
      "cell_type": "markdown",
      "metadata": {
        "id": "XvSh7LzvEipw"
      },
      "source": [
        "Data Science IBM Capstone Project\n"
      ]
    },
    {
      "cell_type": "markdown",
      "metadata": {
        "id": "bbKDEmutFdM8"
      },
      "source": [
        "**Part 1**"
      ]
    },
    {
      "cell_type": "code",
      "metadata": {
        "id": "I0Axj42sD_lw",
        "colab": {
          "base_uri": "https://localhost:8080/"
        },
        "outputId": "a03a3442-3b7f-451e-937c-23b81be1b440"
      },
      "source": [
        "pip install BeautifulSoup4"
      ],
      "execution_count": 1,
      "outputs": [
        {
          "output_type": "stream",
          "text": [
            "Requirement already satisfied: BeautifulSoup4 in /usr/local/lib/python3.7/dist-packages (4.6.3)\n"
          ],
          "name": "stdout"
        }
      ]
    },
    {
      "cell_type": "code",
      "metadata": {
        "colab": {
          "base_uri": "https://localhost:8080/"
        },
        "id": "KjYyKJGLFnIf",
        "outputId": "cc557139-b92c-48ca-a603-0f89df9f79f7"
      },
      "source": [
        "import numpy as np # library to handle data in a vectorized manner\n",
        "import pandas as pd # library for data analsysis\n",
        "import requests \n",
        "from bs4 import BeautifulSoup \n",
        "\n",
        "print('Libraries imported.')"
      ],
      "execution_count": 2,
      "outputs": [
        {
          "output_type": "stream",
          "text": [
            "Libraries imported.\n"
          ],
          "name": "stdout"
        }
      ]
    },
    {
      "cell_type": "code",
      "metadata": {
        "colab": {
          "base_uri": "https://localhost:8080/"
        },
        "id": "BIW4cl4KXTRp",
        "outputId": "91c93881-0ad5-4461-8d67-d07fae223ee0"
      },
      "source": [
        "URL = \"https://en.wikipedia.org/wiki/List_of_postal_codes_of_Canada:_T\"\n",
        "r = requests.get(URL) \n",
        "  \n",
        "soup = BeautifulSoup(r.content, 'html5lib') \n",
        "table = soup.find('div', attrs = {'id':'container'}) \n",
        "\n",
        "# print(soup.prettify()) \n",
        "print('Page Scrapped.')"
      ],
      "execution_count": 4,
      "outputs": [
        {
          "output_type": "stream",
          "text": [
            "Page Scrapped.\n"
          ],
          "name": "stdout"
        }
      ]
    },
    {
      "cell_type": "code",
      "metadata": {
        "colab": {
          "base_uri": "https://localhost:8080/"
        },
        "id": "TZMuGhfBY0ng",
        "outputId": "985b893a-e1cb-46d5-f267-58bbfce87123"
      },
      "source": [
        "postalCodes = [];\n",
        "boroughs= [];\n",
        "neighborhoods = [];\n",
        "columnNum = 1;\n",
        "passVal = False\n",
        "\n",
        "for row in soup.find_all('td'):\n",
        "    for cell in row:\n",
        "        if cell.string and cell.string[0].isalpha() and len(cell.string) > 2:\n",
        "            passVal = False\n",
        "            if columnNum == 1:\n",
        "                if passVal == False and cell.string[1].isdigit():\n",
        "                    postalCodes.append(cell.string);   \n",
        "                    columnNum = 2\n",
        "                else:\n",
        "                    continue\n",
        "            elif columnNum == 2 :\n",
        "                if cell.string == 'Not assigned':\n",
        "                    passVal = True\n",
        "                    del postalCodes[-1]\n",
        "                    columnNum = 1\n",
        "                    continue\n",
        "                else:\n",
        "                    boroughs.append(cell.string);      \n",
        "                    columnNum = 3\n",
        "            elif columnNum == 3 :\n",
        "                if cell.string == 'Not assigned\\n':\n",
        "                    neighborhoods.append(boroughs[-1])\n",
        "                else:\n",
        "                    neighborhoods.append(cell.string); \n",
        "                columnNum = 1\n",
        "                \n",
        "print('Data Collected.')"
      ],
      "execution_count": 6,
      "outputs": [
        {
          "output_type": "stream",
          "text": [
            "Data Collected.\n"
          ],
          "name": "stdout"
        }
      ]
    },
    {
      "cell_type": "code",
      "metadata": {
        "colab": {
          "base_uri": "https://localhost:8080/",
          "height": 49
        },
        "id": "WsPB-ol5Z1ww",
        "outputId": "552a8c85-8878-48b5-f8f8-cbee2565e457"
      },
      "source": [
        "# define the dataframe columns\n",
        "column_names = ['PostalCode', 'Borough', 'Neighborhood'] \n",
        "\n",
        "# instantiate the dataframe\n",
        "neighbors = pd.DataFrame(columns=column_names)\n",
        "\n",
        "neighbors"
      ],
      "execution_count": 7,
      "outputs": [
        {
          "output_type": "execute_result",
          "data": {
            "text/html": [
              "<div>\n",
              "<style scoped>\n",
              "    .dataframe tbody tr th:only-of-type {\n",
              "        vertical-align: middle;\n",
              "    }\n",
              "\n",
              "    .dataframe tbody tr th {\n",
              "        vertical-align: top;\n",
              "    }\n",
              "\n",
              "    .dataframe thead th {\n",
              "        text-align: right;\n",
              "    }\n",
              "</style>\n",
              "<table border=\"1\" class=\"dataframe\">\n",
              "  <thead>\n",
              "    <tr style=\"text-align: right;\">\n",
              "      <th></th>\n",
              "      <th>PostalCode</th>\n",
              "      <th>Borough</th>\n",
              "      <th>Neighborhood</th>\n",
              "    </tr>\n",
              "  </thead>\n",
              "  <tbody>\n",
              "  </tbody>\n",
              "</table>\n",
              "</div>"
            ],
            "text/plain": [
              "Empty DataFrame\n",
              "Columns: [PostalCode, Borough, Neighborhood]\n",
              "Index: []"
            ]
          },
          "metadata": {
            "tags": []
          },
          "execution_count": 7
        }
      ]
    },
    {
      "cell_type": "code",
      "metadata": {
        "colab": {
          "base_uri": "https://localhost:8080/",
          "height": 419
        },
        "id": "4pVR5WnAZ7HU",
        "outputId": "07caff4f-1a23-4836-fbd2-c2f37062fc25"
      },
      "source": [
        "for data in range(len(neighborhoods)):\n",
        "    code = postalCodes[data]\n",
        "    borough = boroughs[data]\n",
        "    neighborhood_name = neighborhoods[data]\n",
        "\n",
        "    neighbors = neighbors.append({ 'PostalCode': code,\n",
        "                                   'Borough': borough,\n",
        "                                   'Neighborhood': neighborhood_name}, ignore_index=True)\n",
        "\n",
        "neighbors"
      ],
      "execution_count": 8,
      "outputs": [
        {
          "output_type": "execute_result",
          "data": {
            "text/html": [
              "<div>\n",
              "<style scoped>\n",
              "    .dataframe tbody tr th:only-of-type {\n",
              "        vertical-align: middle;\n",
              "    }\n",
              "\n",
              "    .dataframe tbody tr th {\n",
              "        vertical-align: top;\n",
              "    }\n",
              "\n",
              "    .dataframe thead th {\n",
              "        text-align: right;\n",
              "    }\n",
              "</style>\n",
              "<table border=\"1\" class=\"dataframe\">\n",
              "  <thead>\n",
              "    <tr style=\"text-align: right;\">\n",
              "      <th></th>\n",
              "      <th>PostalCode</th>\n",
              "      <th>Borough</th>\n",
              "      <th>Neighborhood</th>\n",
              "    </tr>\n",
              "  </thead>\n",
              "  <tbody>\n",
              "    <tr>\n",
              "      <th>0</th>\n",
              "      <td>T1A</td>\n",
              "      <td>T2A</td>\n",
              "      <td>T3A</td>\n",
              "    </tr>\n",
              "    <tr>\n",
              "      <th>1</th>\n",
              "      <td>T4A</td>\n",
              "      <td>T5A</td>\n",
              "      <td>T6A</td>\n",
              "    </tr>\n",
              "    <tr>\n",
              "      <th>2</th>\n",
              "      <td>T7A</td>\n",
              "      <td>Drayton Valley</td>\n",
              "      <td>T8A</td>\n",
              "    </tr>\n",
              "    <tr>\n",
              "      <th>3</th>\n",
              "      <td>T9A</td>\n",
              "      <td>Wetaskiwin</td>\n",
              "      <td>T1B</td>\n",
              "    </tr>\n",
              "    <tr>\n",
              "      <th>4</th>\n",
              "      <td>T2B</td>\n",
              "      <td>T3B</td>\n",
              "      <td>T4B</td>\n",
              "    </tr>\n",
              "    <tr>\n",
              "      <th>...</th>\n",
              "      <td>...</td>\n",
              "      <td>...</td>\n",
              "      <td>...</td>\n",
              "    </tr>\n",
              "    <tr>\n",
              "      <th>254</th>\n",
              "      <td>T0N</td>\n",
              "      <td>Not in use</td>\n",
              "      <td>T0P</td>\n",
              "    </tr>\n",
              "    <tr>\n",
              "      <th>255</th>\n",
              "      <td>T0R</td>\n",
              "      <td>Not in use</td>\n",
              "      <td>T0S</td>\n",
              "    </tr>\n",
              "    <tr>\n",
              "      <th>256</th>\n",
              "      <td>T0T</td>\n",
              "      <td>Not in use</td>\n",
              "      <td>T0V</td>\n",
              "    </tr>\n",
              "    <tr>\n",
              "      <th>257</th>\n",
              "      <td>T0W</td>\n",
              "      <td>Not in use</td>\n",
              "      <td>T0X</td>\n",
              "    </tr>\n",
              "    <tr>\n",
              "      <th>258</th>\n",
              "      <td>T0Y</td>\n",
              "      <td>Not in use</td>\n",
              "      <td>T0Z</td>\n",
              "    </tr>\n",
              "  </tbody>\n",
              "</table>\n",
              "<p>259 rows × 3 columns</p>\n",
              "</div>"
            ],
            "text/plain": [
              "    PostalCode         Borough Neighborhood\n",
              "0          T1A             T2A          T3A\n",
              "1          T4A             T5A          T6A\n",
              "2          T7A  Drayton Valley          T8A\n",
              "3          T9A      Wetaskiwin          T1B\n",
              "4          T2B             T3B          T4B\n",
              "..         ...             ...          ...\n",
              "254        T0N      Not in use          T0P\n",
              "255        T0R      Not in use          T0S\n",
              "256        T0T      Not in use          T0V\n",
              "257        T0W      Not in use          T0X\n",
              "258        T0Y      Not in use          T0Z\n",
              "\n",
              "[259 rows x 3 columns]"
            ]
          },
          "metadata": {
            "tags": []
          },
          "execution_count": 8
        }
      ]
    },
    {
      "cell_type": "code",
      "metadata": {
        "id": "8VqFc6JnXBPR",
        "colab": {
          "base_uri": "https://localhost:8080/"
        },
        "outputId": "a1cf8f30-047f-49ae-c7dc-03b370300466"
      },
      "source": [
        "neighbors.shape"
      ],
      "execution_count": 9,
      "outputs": [
        {
          "output_type": "execute_result",
          "data": {
            "text/plain": [
              "(259, 3)"
            ]
          },
          "metadata": {
            "tags": []
          },
          "execution_count": 9
        }
      ]
    }
  ]
}