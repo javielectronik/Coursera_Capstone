{
  "nbformat": 4,
  "nbformat_minor": 0,
  "metadata": {
    "colab": {
      "name": "Segmenting and clustering neighborhoods in the city of Toronto part 2.ipynb",
      "provenance": []
    },
    "kernelspec": {
      "name": "python3",
      "display_name": "Python 3"
    },
    "language_info": {
      "name": "python"
    }
  },
  "cells": [
    {
      "cell_type": "code",
      "metadata": {
        "id": "cn_z6lf73fyh"
      },
      "source": [
        ""
      ],
      "execution_count": null,
      "outputs": []
    },
    {
      "cell_type": "markdown",
      "metadata": {
        "id": "k5CxKgvD3h24"
      },
      "source": [
        "**Segmenting and clustering neighborhoods in the city of Toronto**"
      ]
    },
    {
      "cell_type": "markdown",
      "metadata": {
        "id": "49GsxIWw3nnV"
      },
      "source": [
        "Week3 Peer Graded Assignment"
      ]
    },
    {
      "cell_type": "markdown",
      "metadata": {
        "id": "f8kCLMjS3vhf"
      },
      "source": [
        "Data Science IBM Capstone Project"
      ]
    },
    {
      "cell_type": "markdown",
      "metadata": {
        "id": "1-c841IX32gW"
      },
      "source": [
        "**Part 2**"
      ]
    },
    {
      "cell_type": "code",
      "metadata": {
        "colab": {
          "base_uri": "https://localhost:8080/"
        },
        "id": "V_6GKLFM4FcO",
        "outputId": "efe036c2-021a-4de4-8c50-bf7007a852ce"
      },
      "source": [
        "import sys\n",
        "!{sys.executable} -m pip install geocoder\n",
        "\n",
        "print('Packages installed.')"
      ],
      "execution_count": 1,
      "outputs": [
        {
          "output_type": "stream",
          "text": [
            "Collecting geocoder\n",
            "\u001b[?25l  Downloading https://files.pythonhosted.org/packages/4f/6b/13166c909ad2f2d76b929a4227c952630ebaf0d729f6317eb09cbceccbab/geocoder-1.38.1-py2.py3-none-any.whl (98kB)\n",
            "\r\u001b[K     |███▎                            | 10kB 16.0MB/s eta 0:00:01\r\u001b[K     |██████▋                         | 20kB 18.6MB/s eta 0:00:01\r\u001b[K     |██████████                      | 30kB 11.2MB/s eta 0:00:01\r\u001b[K     |█████████████▎                  | 40kB 9.2MB/s eta 0:00:01\r\u001b[K     |████████████████▋               | 51kB 8.1MB/s eta 0:00:01\r\u001b[K     |████████████████████            | 61kB 8.4MB/s eta 0:00:01\r\u001b[K     |███████████████████████▎        | 71kB 8.6MB/s eta 0:00:01\r\u001b[K     |██████████████████████████▋     | 81kB 8.1MB/s eta 0:00:01\r\u001b[K     |██████████████████████████████  | 92kB 8.8MB/s eta 0:00:01\r\u001b[K     |████████████████████████████████| 102kB 5.9MB/s \n",
            "\u001b[?25hRequirement already satisfied: click in /usr/local/lib/python3.7/dist-packages (from geocoder) (7.1.2)\n",
            "Requirement already satisfied: requests in /usr/local/lib/python3.7/dist-packages (from geocoder) (2.23.0)\n",
            "Requirement already satisfied: future in /usr/local/lib/python3.7/dist-packages (from geocoder) (0.16.0)\n",
            "Requirement already satisfied: six in /usr/local/lib/python3.7/dist-packages (from geocoder) (1.15.0)\n",
            "Collecting ratelim\n",
            "  Downloading https://files.pythonhosted.org/packages/f2/98/7e6d147fd16a10a5f821db6e25f192265d6ecca3d82957a4fdd592cad49c/ratelim-0.1.6-py2.py3-none-any.whl\n",
            "Requirement already satisfied: certifi>=2017.4.17 in /usr/local/lib/python3.7/dist-packages (from requests->geocoder) (2020.12.5)\n",
            "Requirement already satisfied: idna<3,>=2.5 in /usr/local/lib/python3.7/dist-packages (from requests->geocoder) (2.10)\n",
            "Requirement already satisfied: chardet<4,>=3.0.2 in /usr/local/lib/python3.7/dist-packages (from requests->geocoder) (3.0.4)\n",
            "Requirement already satisfied: urllib3!=1.25.0,!=1.25.1,<1.26,>=1.21.1 in /usr/local/lib/python3.7/dist-packages (from requests->geocoder) (1.24.3)\n",
            "Requirement already satisfied: decorator in /usr/local/lib/python3.7/dist-packages (from ratelim->geocoder) (4.4.2)\n",
            "Installing collected packages: ratelim, geocoder\n",
            "Successfully installed geocoder-1.38.1 ratelim-0.1.6\n",
            "Packages installed.\n"
          ],
          "name": "stdout"
        }
      ]
    },
    {
      "cell_type": "code",
      "metadata": {
        "colab": {
          "base_uri": "https://localhost:8080/"
        },
        "id": "U2hPGgAt4D5A",
        "outputId": "6b6f4245-a2dd-4e57-f101-90aa9a9e9e33"
      },
      "source": [
        "pip install BeautifulSoup4"
      ],
      "execution_count": 3,
      "outputs": [
        {
          "output_type": "stream",
          "text": [
            "Requirement already satisfied: BeautifulSoup4 in /usr/local/lib/python3.7/dist-packages (4.6.3)\n"
          ],
          "name": "stdout"
        }
      ]
    },
    {
      "cell_type": "code",
      "metadata": {
        "colab": {
          "base_uri": "https://localhost:8080/"
        },
        "id": "rH8iH5Ou4egl",
        "outputId": "9d7b8107-fd73-453a-efc2-97259d6e122b"
      },
      "source": [
        "import numpy as np # library to handle data in a vectorized manner\n",
        "import pandas as pd # library for data analsysis\n",
        "import geocoder # import geocoder\n",
        "import requests \n",
        "from bs4 import BeautifulSoup \n",
        "\n",
        "print('Libraries imported.')"
      ],
      "execution_count": 4,
      "outputs": [
        {
          "output_type": "stream",
          "text": [
            "Libraries imported.\n"
          ],
          "name": "stdout"
        }
      ]
    },
    {
      "cell_type": "code",
      "metadata": {
        "colab": {
          "base_uri": "https://localhost:8080/"
        },
        "id": "r5NBTWXT4lMN",
        "outputId": "92ec2bd5-6c1e-4a45-f707-c04ac0f5c8fb"
      },
      "source": [
        "URL = \"https://en.wikipedia.org/wiki/List_of_postal_codes_of_Canada:_T\"\n",
        "r = requests.get(URL) \n",
        "  \n",
        "soup = BeautifulSoup(r.content, 'html5lib') \n",
        "table = soup.find('div', attrs = {'id':'container'}) \n",
        "\n",
        "# print(soup.prettify()) \n",
        "print('Page Scrapped.')"
      ],
      "execution_count": 5,
      "outputs": [
        {
          "output_type": "stream",
          "text": [
            "Page Scrapped.\n"
          ],
          "name": "stdout"
        }
      ]
    },
    {
      "cell_type": "code",
      "metadata": {
        "colab": {
          "base_uri": "https://localhost:8080/"
        },
        "id": "oeMtP4LW47He",
        "outputId": "de719e0c-307e-4c87-b444-2083d05657ff"
      },
      "source": [
        "\n",
        "postalCodes = [];\n",
        "boroughs= [];\n",
        "neighborhoods = [];\n",
        "columnNum = 1;\n",
        "passVal = False\n",
        "\n",
        "for row in soup.find_all('td'):\n",
        "    for cell in row:\n",
        "        if cell.string and cell.string[0].isalpha() and len(cell.string) > 2:\n",
        "            passVal = False\n",
        "            if columnNum == 1:\n",
        "                if passVal == False and cell.string[1].isdigit():\n",
        "                    postalCodes.append(cell.string);   \n",
        "                    columnNum = 2\n",
        "                else:\n",
        "                    continue\n",
        "            elif columnNum == 2 :\n",
        "                if cell.string == 'Not assigned':\n",
        "                    passVal = True\n",
        "                    del postalCodes[-1]\n",
        "                    columnNum = 1\n",
        "                    continue\n",
        "                else:\n",
        "                    boroughs.append(cell.string);      \n",
        "                    columnNum = 3\n",
        "            elif columnNum == 3 :\n",
        "                if cell.string == 'Not assigned\\n':\n",
        "                    neighborhoods.append(boroughs[-1])\n",
        "                else:\n",
        "                    neighborhoods.append(cell.string); \n",
        "                columnNum = 1\n",
        "                \n",
        "print('Data Collected.')"
      ],
      "execution_count": 6,
      "outputs": [
        {
          "output_type": "stream",
          "text": [
            "Data Collected.\n"
          ],
          "name": "stdout"
        }
      ]
    },
    {
      "cell_type": "code",
      "metadata": {
        "colab": {
          "base_uri": "https://localhost:8080/",
          "height": 49
        },
        "id": "aqpaGlYz5Dlv",
        "outputId": "3b687638-5635-4a26-eef4-50a8854542c8"
      },
      "source": [
        "# define the dataframe columns\n",
        "column_names = ['PostalCode', 'Borough', 'Neighborhood', 'Latitude', 'Longitude'] \n",
        "\n",
        "# instantiate the dataframe\n",
        "neighbors = pd.DataFrame(columns=column_names)\n",
        "\n",
        "neighbors"
      ],
      "execution_count": 7,
      "outputs": [
        {
          "output_type": "execute_result",
          "data": {
            "text/html": [
              "<div>\n",
              "<style scoped>\n",
              "    .dataframe tbody tr th:only-of-type {\n",
              "        vertical-align: middle;\n",
              "    }\n",
              "\n",
              "    .dataframe tbody tr th {\n",
              "        vertical-align: top;\n",
              "    }\n",
              "\n",
              "    .dataframe thead th {\n",
              "        text-align: right;\n",
              "    }\n",
              "</style>\n",
              "<table border=\"1\" class=\"dataframe\">\n",
              "  <thead>\n",
              "    <tr style=\"text-align: right;\">\n",
              "      <th></th>\n",
              "      <th>PostalCode</th>\n",
              "      <th>Borough</th>\n",
              "      <th>Neighborhood</th>\n",
              "      <th>Latitude</th>\n",
              "      <th>Longitude</th>\n",
              "    </tr>\n",
              "  </thead>\n",
              "  <tbody>\n",
              "  </tbody>\n",
              "</table>\n",
              "</div>"
            ],
            "text/plain": [
              "Empty DataFrame\n",
              "Columns: [PostalCode, Borough, Neighborhood, Latitude, Longitude]\n",
              "Index: []"
            ]
          },
          "metadata": {
            "tags": []
          },
          "execution_count": 7
        }
      ]
    },
    {
      "cell_type": "code",
      "metadata": {
        "colab": {
          "base_uri": "https://localhost:8080/",
          "height": 419
        },
        "id": "CDrf10Vz5Jxs",
        "outputId": "5ea6ed6f-e9ab-4226-bdf4-b6b08c294c00"
      },
      "source": [
        "# initialize your variable to None\n",
        "lat_lng_coords = None\n",
        "\n",
        "for data in range(0, len(postalCodes)-1):\n",
        "    code = postalCodes[data]\n",
        "    borough = boroughs[data]\n",
        "    neighborhood_name = neighborhoods[data]\n",
        "    \n",
        "    g = geocoder.arcgis('{}, Toronto, Ontario'.format(code))\n",
        "    lat_lng_coords = g.latlng\n",
        "\n",
        "    neighbors = neighbors.append({ 'PostalCode': code,\n",
        "                                   'Borough': borough,\n",
        "                                   'Neighborhood': neighborhood_name,\n",
        "                                   'Latitude': lat_lng_coords[0],\n",
        "                                   'Longitude': lat_lng_coords[1]}, ignore_index=True)\n",
        "    \n",
        "neighbors"
      ],
      "execution_count": 8,
      "outputs": [
        {
          "output_type": "execute_result",
          "data": {
            "text/html": [
              "<div>\n",
              "<style scoped>\n",
              "    .dataframe tbody tr th:only-of-type {\n",
              "        vertical-align: middle;\n",
              "    }\n",
              "\n",
              "    .dataframe tbody tr th {\n",
              "        vertical-align: top;\n",
              "    }\n",
              "\n",
              "    .dataframe thead th {\n",
              "        text-align: right;\n",
              "    }\n",
              "</style>\n",
              "<table border=\"1\" class=\"dataframe\">\n",
              "  <thead>\n",
              "    <tr style=\"text-align: right;\">\n",
              "      <th></th>\n",
              "      <th>PostalCode</th>\n",
              "      <th>Borough</th>\n",
              "      <th>Neighborhood</th>\n",
              "      <th>Latitude</th>\n",
              "      <th>Longitude</th>\n",
              "    </tr>\n",
              "  </thead>\n",
              "  <tbody>\n",
              "    <tr>\n",
              "      <th>0</th>\n",
              "      <td>T1A</td>\n",
              "      <td>T2A</td>\n",
              "      <td>T3A</td>\n",
              "      <td>43.64869</td>\n",
              "      <td>-79.38544</td>\n",
              "    </tr>\n",
              "    <tr>\n",
              "      <th>1</th>\n",
              "      <td>T4A</td>\n",
              "      <td>T5A</td>\n",
              "      <td>T6A</td>\n",
              "      <td>43.64869</td>\n",
              "      <td>-79.38544</td>\n",
              "    </tr>\n",
              "    <tr>\n",
              "      <th>2</th>\n",
              "      <td>T7A</td>\n",
              "      <td>Drayton Valley</td>\n",
              "      <td>T8A</td>\n",
              "      <td>43.64869</td>\n",
              "      <td>-79.38544</td>\n",
              "    </tr>\n",
              "    <tr>\n",
              "      <th>3</th>\n",
              "      <td>T9A</td>\n",
              "      <td>Wetaskiwin</td>\n",
              "      <td>T1B</td>\n",
              "      <td>43.64869</td>\n",
              "      <td>-79.38544</td>\n",
              "    </tr>\n",
              "    <tr>\n",
              "      <th>4</th>\n",
              "      <td>T2B</td>\n",
              "      <td>T3B</td>\n",
              "      <td>T4B</td>\n",
              "      <td>43.64869</td>\n",
              "      <td>-79.38544</td>\n",
              "    </tr>\n",
              "    <tr>\n",
              "      <th>...</th>\n",
              "      <td>...</td>\n",
              "      <td>...</td>\n",
              "      <td>...</td>\n",
              "      <td>...</td>\n",
              "      <td>...</td>\n",
              "    </tr>\n",
              "    <tr>\n",
              "      <th>253</th>\n",
              "      <td>T0L</td>\n",
              "      <td>Kananaskis Improvement District</td>\n",
              "      <td>T0M</td>\n",
              "      <td>43.64869</td>\n",
              "      <td>-79.38544</td>\n",
              "    </tr>\n",
              "    <tr>\n",
              "      <th>254</th>\n",
              "      <td>T0N</td>\n",
              "      <td>Not in use</td>\n",
              "      <td>T0P</td>\n",
              "      <td>43.64869</td>\n",
              "      <td>-79.38544</td>\n",
              "    </tr>\n",
              "    <tr>\n",
              "      <th>255</th>\n",
              "      <td>T0R</td>\n",
              "      <td>Not in use</td>\n",
              "      <td>T0S</td>\n",
              "      <td>43.64869</td>\n",
              "      <td>-79.38544</td>\n",
              "    </tr>\n",
              "    <tr>\n",
              "      <th>256</th>\n",
              "      <td>T0T</td>\n",
              "      <td>Not in use</td>\n",
              "      <td>T0V</td>\n",
              "      <td>43.64869</td>\n",
              "      <td>-79.38544</td>\n",
              "    </tr>\n",
              "    <tr>\n",
              "      <th>257</th>\n",
              "      <td>T0W</td>\n",
              "      <td>Not in use</td>\n",
              "      <td>T0X</td>\n",
              "      <td>43.64869</td>\n",
              "      <td>-79.38544</td>\n",
              "    </tr>\n",
              "  </tbody>\n",
              "</table>\n",
              "<p>258 rows × 5 columns</p>\n",
              "</div>"
            ],
            "text/plain": [
              "    PostalCode                          Borough  ...  Latitude  Longitude\n",
              "0          T1A                              T2A  ...  43.64869  -79.38544\n",
              "1          T4A                              T5A  ...  43.64869  -79.38544\n",
              "2          T7A                   Drayton Valley  ...  43.64869  -79.38544\n",
              "3          T9A                       Wetaskiwin  ...  43.64869  -79.38544\n",
              "4          T2B                              T3B  ...  43.64869  -79.38544\n",
              "..         ...                              ...  ...       ...        ...\n",
              "253        T0L  Kananaskis Improvement District  ...  43.64869  -79.38544\n",
              "254        T0N                       Not in use  ...  43.64869  -79.38544\n",
              "255        T0R                       Not in use  ...  43.64869  -79.38544\n",
              "256        T0T                       Not in use  ...  43.64869  -79.38544\n",
              "257        T0W                       Not in use  ...  43.64869  -79.38544\n",
              "\n",
              "[258 rows x 5 columns]"
            ]
          },
          "metadata": {
            "tags": []
          },
          "execution_count": 8
        }
      ]
    },
    {
      "cell_type": "code",
      "metadata": {
        "colab": {
          "base_uri": "https://localhost:8080/"
        },
        "id": "FuRZ_N4D6d4I",
        "outputId": "3f229f10-dd8d-4299-9d53-f9bbfbdf3c0c"
      },
      "source": [
        "neighbors.shape"
      ],
      "execution_count": 9,
      "outputs": [
        {
          "output_type": "execute_result",
          "data": {
            "text/plain": [
              "(258, 5)"
            ]
          },
          "metadata": {
            "tags": []
          },
          "execution_count": 9
        }
      ]
    }
  ]
}